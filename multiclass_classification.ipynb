{
 "cells": [
  {
   "cell_type": "markdown",
   "metadata": {},
   "source": [
    "<h1>Multiclass Classification</h1>"
   ]
  },
  {
   "cell_type": "code",
   "execution_count": 39,
   "metadata": {},
   "outputs": [],
   "source": [
    "import pandas as pd\n",
    "import numpy as np\n",
    "import matplotlib.pyplot as plt\n",
    "import seaborn as sns\n",
    "from sklearn.preprocessing import LabelEncoder, MinMaxScaler\n",
    "from sklearn.model_selection import train_test_split, cross_val_predict, cross_val_score, KFold, GridSearchCV\n",
    "from sklearn.metrics import accuracy_score, precision_score, recall_score, f1_score, auc, confusion_matrix, classification_report\n",
    "from sklearn.neighbors import KNeighborsClassifier, KNeighborsRegressor\n",
    "from sklearn.decomposition import PCA\n",
    "from sklearn.multiclass import OneVsRestClassifier\n",
    "from sklearn.linear_model import LogisticRegression\n",
    "import warnings\n",
    "warnings.filterwarnings('ignore')"
   ]
  },
  {
   "cell_type": "code",
   "execution_count": 4,
   "metadata": {},
   "outputs": [
    {
     "data": {
      "text/html": [
       "<div>\n",
       "<style scoped>\n",
       "    .dataframe tbody tr th:only-of-type {\n",
       "        vertical-align: middle;\n",
       "    }\n",
       "\n",
       "    .dataframe tbody tr th {\n",
       "        vertical-align: top;\n",
       "    }\n",
       "\n",
       "    .dataframe thead th {\n",
       "        text-align: right;\n",
       "    }\n",
       "</style>\n",
       "<table border=\"1\" class=\"dataframe\">\n",
       "  <thead>\n",
       "    <tr style=\"text-align: right;\">\n",
       "      <th></th>\n",
       "      <th>artist</th>\n",
       "      <th>top genre</th>\n",
       "      <th>followers</th>\n",
       "      <th>artist_popularity</th>\n",
       "      <th>year</th>\n",
       "      <th>tempo</th>\n",
       "      <th>energy</th>\n",
       "      <th>danceability</th>\n",
       "      <th>loudness</th>\n",
       "      <th>liveness</th>\n",
       "      <th>valence</th>\n",
       "      <th>duration</th>\n",
       "      <th>acousticness</th>\n",
       "      <th>speechiness</th>\n",
       "      <th>track_popularity</th>\n",
       "    </tr>\n",
       "    <tr>\n",
       "      <th>title</th>\n",
       "      <th></th>\n",
       "      <th></th>\n",
       "      <th></th>\n",
       "      <th></th>\n",
       "      <th></th>\n",
       "      <th></th>\n",
       "      <th></th>\n",
       "      <th></th>\n",
       "      <th></th>\n",
       "      <th></th>\n",
       "      <th></th>\n",
       "      <th></th>\n",
       "      <th></th>\n",
       "      <th></th>\n",
       "      <th></th>\n",
       "    </tr>\n",
       "  </thead>\n",
       "  <tbody>\n",
       "    <tr>\n",
       "      <th>Hey, Soul Sister</th>\n",
       "      <td>Train</td>\n",
       "      <td>POP</td>\n",
       "      <td>3.693075</td>\n",
       "      <td>78.0</td>\n",
       "      <td>2010</td>\n",
       "      <td>97.0</td>\n",
       "      <td>89.0</td>\n",
       "      <td>67.0</td>\n",
       "      <td>-4.0</td>\n",
       "      <td>8.0</td>\n",
       "      <td>80.0</td>\n",
       "      <td>217.0</td>\n",
       "      <td>19.0</td>\n",
       "      <td>4.0</td>\n",
       "      <td>83</td>\n",
       "    </tr>\n",
       "    <tr>\n",
       "      <th>Love The Way You Lie</th>\n",
       "      <td>Eminem</td>\n",
       "      <td>HIPHOP</td>\n",
       "      <td>44.814807</td>\n",
       "      <td>94.0</td>\n",
       "      <td>2010</td>\n",
       "      <td>87.0</td>\n",
       "      <td>93.0</td>\n",
       "      <td>75.0</td>\n",
       "      <td>-5.0</td>\n",
       "      <td>52.0</td>\n",
       "      <td>64.0</td>\n",
       "      <td>263.0</td>\n",
       "      <td>24.0</td>\n",
       "      <td>23.0</td>\n",
       "      <td>82</td>\n",
       "    </tr>\n",
       "    <tr>\n",
       "      <th>TiK ToK</th>\n",
       "      <td>Kesha</td>\n",
       "      <td>POP</td>\n",
       "      <td>6.410236</td>\n",
       "      <td>81.0</td>\n",
       "      <td>2010</td>\n",
       "      <td>120.0</td>\n",
       "      <td>84.0</td>\n",
       "      <td>76.0</td>\n",
       "      <td>-3.0</td>\n",
       "      <td>29.0</td>\n",
       "      <td>71.0</td>\n",
       "      <td>200.0</td>\n",
       "      <td>10.0</td>\n",
       "      <td>14.0</td>\n",
       "      <td>80</td>\n",
       "    </tr>\n",
       "    <tr>\n",
       "      <th>Bad Romance</th>\n",
       "      <td>Lady Gaga</td>\n",
       "      <td>POP</td>\n",
       "      <td>17.680180</td>\n",
       "      <td>89.0</td>\n",
       "      <td>2010</td>\n",
       "      <td>119.0</td>\n",
       "      <td>92.0</td>\n",
       "      <td>70.0</td>\n",
       "      <td>-4.0</td>\n",
       "      <td>8.0</td>\n",
       "      <td>71.0</td>\n",
       "      <td>295.0</td>\n",
       "      <td>0.0</td>\n",
       "      <td>4.0</td>\n",
       "      <td>79</td>\n",
       "    </tr>\n",
       "    <tr>\n",
       "      <th>Just the Way You Are</th>\n",
       "      <td>Bruno Mars</td>\n",
       "      <td>POP</td>\n",
       "      <td>31.020064</td>\n",
       "      <td>93.0</td>\n",
       "      <td>2010</td>\n",
       "      <td>109.0</td>\n",
       "      <td>84.0</td>\n",
       "      <td>64.0</td>\n",
       "      <td>-5.0</td>\n",
       "      <td>9.0</td>\n",
       "      <td>43.0</td>\n",
       "      <td>221.0</td>\n",
       "      <td>2.0</td>\n",
       "      <td>4.0</td>\n",
       "      <td>78</td>\n",
       "    </tr>\n",
       "  </tbody>\n",
       "</table>\n",
       "</div>"
      ],
      "text/plain": [
       "                          artist top genre  followers  artist_popularity  \\\n",
       "title                                                                      \n",
       "Hey, Soul Sister           Train       POP   3.693075               78.0   \n",
       "Love The Way You Lie      Eminem    HIPHOP  44.814807               94.0   \n",
       "TiK ToK                    Kesha       POP   6.410236               81.0   \n",
       "Bad Romance            Lady Gaga       POP  17.680180               89.0   \n",
       "Just the Way You Are  Bruno Mars       POP  31.020064               93.0   \n",
       "\n",
       "                      year  tempo  energy  danceability  loudness  liveness  \\\n",
       "title                                                                         \n",
       "Hey, Soul Sister      2010   97.0    89.0          67.0      -4.0       8.0   \n",
       "Love The Way You Lie  2010   87.0    93.0          75.0      -5.0      52.0   \n",
       "TiK ToK               2010  120.0    84.0          76.0      -3.0      29.0   \n",
       "Bad Romance           2010  119.0    92.0          70.0      -4.0       8.0   \n",
       "Just the Way You Are  2010  109.0    84.0          64.0      -5.0       9.0   \n",
       "\n",
       "                      valence  duration  acousticness  speechiness  \\\n",
       "title                                                                \n",
       "Hey, Soul Sister         80.0     217.0          19.0          4.0   \n",
       "Love The Way You Lie     64.0     263.0          24.0         23.0   \n",
       "TiK ToK                  71.0     200.0          10.0         14.0   \n",
       "Bad Romance              71.0     295.0           0.0          4.0   \n",
       "Just the Way You Are     43.0     221.0           2.0          4.0   \n",
       "\n",
       "                      track_popularity  \n",
       "title                                   \n",
       "Hey, Soul Sister                    83  \n",
       "Love The Way You Lie                82  \n",
       "TiK ToK                             80  \n",
       "Bad Romance                         79  \n",
       "Just the Way You Are                78  "
      ]
     },
     "execution_count": 4,
     "metadata": {},
     "output_type": "execute_result"
    }
   ],
   "source": [
    "data = pd.read_csv('data/final_spotify_tracks.csv')\n",
    "data.set_index(['title'], inplace=True)\n",
    "data.head()"
   ]
  },
  {
   "cell_type": "markdown",
   "metadata": {},
   "source": [
    "Поради тоа што артистот и врвниот жанр се текстуални променливи и не можат да се користат како такви, ќе ги кодирам со помош на кодерот за етикети."
   ]
  },
  {
   "cell_type": "code",
   "execution_count": 5,
   "metadata": {},
   "outputs": [
    {
     "data": {
      "text/html": [
       "<div>\n",
       "<style scoped>\n",
       "    .dataframe tbody tr th:only-of-type {\n",
       "        vertical-align: middle;\n",
       "    }\n",
       "\n",
       "    .dataframe tbody tr th {\n",
       "        vertical-align: top;\n",
       "    }\n",
       "\n",
       "    .dataframe thead th {\n",
       "        text-align: right;\n",
       "    }\n",
       "</style>\n",
       "<table border=\"1\" class=\"dataframe\">\n",
       "  <thead>\n",
       "    <tr style=\"text-align: right;\">\n",
       "      <th></th>\n",
       "      <th>artist</th>\n",
       "      <th>top genre</th>\n",
       "      <th>followers</th>\n",
       "      <th>artist_popularity</th>\n",
       "      <th>year</th>\n",
       "      <th>tempo</th>\n",
       "      <th>energy</th>\n",
       "      <th>danceability</th>\n",
       "      <th>loudness</th>\n",
       "      <th>liveness</th>\n",
       "      <th>valence</th>\n",
       "      <th>duration</th>\n",
       "      <th>acousticness</th>\n",
       "      <th>speechiness</th>\n",
       "      <th>track_popularity</th>\n",
       "    </tr>\n",
       "    <tr>\n",
       "      <th>title</th>\n",
       "      <th></th>\n",
       "      <th></th>\n",
       "      <th></th>\n",
       "      <th></th>\n",
       "      <th></th>\n",
       "      <th></th>\n",
       "      <th></th>\n",
       "      <th></th>\n",
       "      <th></th>\n",
       "      <th></th>\n",
       "      <th></th>\n",
       "      <th></th>\n",
       "      <th></th>\n",
       "      <th></th>\n",
       "      <th></th>\n",
       "    </tr>\n",
       "  </thead>\n",
       "  <tbody>\n",
       "    <tr>\n",
       "      <th>Hey, Soul Sister</th>\n",
       "      <td>200</td>\n",
       "      <td>4</td>\n",
       "      <td>3.693075</td>\n",
       "      <td>78.0</td>\n",
       "      <td>2010</td>\n",
       "      <td>97.0</td>\n",
       "      <td>89.0</td>\n",
       "      <td>67.0</td>\n",
       "      <td>-4.0</td>\n",
       "      <td>8.0</td>\n",
       "      <td>80.0</td>\n",
       "      <td>217.0</td>\n",
       "      <td>19.0</td>\n",
       "      <td>4.0</td>\n",
       "      <td>83</td>\n",
       "    </tr>\n",
       "    <tr>\n",
       "      <th>Love The Way You Lie</th>\n",
       "      <td>58</td>\n",
       "      <td>3</td>\n",
       "      <td>44.814807</td>\n",
       "      <td>94.0</td>\n",
       "      <td>2010</td>\n",
       "      <td>87.0</td>\n",
       "      <td>93.0</td>\n",
       "      <td>75.0</td>\n",
       "      <td>-5.0</td>\n",
       "      <td>52.0</td>\n",
       "      <td>64.0</td>\n",
       "      <td>263.0</td>\n",
       "      <td>24.0</td>\n",
       "      <td>23.0</td>\n",
       "      <td>82</td>\n",
       "    </tr>\n",
       "    <tr>\n",
       "      <th>TiK ToK</th>\n",
       "      <td>103</td>\n",
       "      <td>4</td>\n",
       "      <td>6.410236</td>\n",
       "      <td>81.0</td>\n",
       "      <td>2010</td>\n",
       "      <td>120.0</td>\n",
       "      <td>84.0</td>\n",
       "      <td>76.0</td>\n",
       "      <td>-3.0</td>\n",
       "      <td>29.0</td>\n",
       "      <td>71.0</td>\n",
       "      <td>200.0</td>\n",
       "      <td>10.0</td>\n",
       "      <td>14.0</td>\n",
       "      <td>80</td>\n",
       "    </tr>\n",
       "    <tr>\n",
       "      <th>Bad Romance</th>\n",
       "      <td>108</td>\n",
       "      <td>4</td>\n",
       "      <td>17.680180</td>\n",
       "      <td>89.0</td>\n",
       "      <td>2010</td>\n",
       "      <td>119.0</td>\n",
       "      <td>92.0</td>\n",
       "      <td>70.0</td>\n",
       "      <td>-4.0</td>\n",
       "      <td>8.0</td>\n",
       "      <td>71.0</td>\n",
       "      <td>295.0</td>\n",
       "      <td>0.0</td>\n",
       "      <td>4.0</td>\n",
       "      <td>79</td>\n",
       "    </tr>\n",
       "    <tr>\n",
       "      <th>Just the Way You Are</th>\n",
       "      <td>26</td>\n",
       "      <td>4</td>\n",
       "      <td>31.020064</td>\n",
       "      <td>93.0</td>\n",
       "      <td>2010</td>\n",
       "      <td>109.0</td>\n",
       "      <td>84.0</td>\n",
       "      <td>64.0</td>\n",
       "      <td>-5.0</td>\n",
       "      <td>9.0</td>\n",
       "      <td>43.0</td>\n",
       "      <td>221.0</td>\n",
       "      <td>2.0</td>\n",
       "      <td>4.0</td>\n",
       "      <td>78</td>\n",
       "    </tr>\n",
       "  </tbody>\n",
       "</table>\n",
       "</div>"
      ],
      "text/plain": [
       "                      artist  top genre  followers  artist_popularity  year  \\\n",
       "title                                                                         \n",
       "Hey, Soul Sister         200          4   3.693075               78.0  2010   \n",
       "Love The Way You Lie      58          3  44.814807               94.0  2010   \n",
       "TiK ToK                  103          4   6.410236               81.0  2010   \n",
       "Bad Romance              108          4  17.680180               89.0  2010   \n",
       "Just the Way You Are      26          4  31.020064               93.0  2010   \n",
       "\n",
       "                      tempo  energy  danceability  loudness  liveness  \\\n",
       "title                                                                   \n",
       "Hey, Soul Sister       97.0    89.0          67.0      -4.0       8.0   \n",
       "Love The Way You Lie   87.0    93.0          75.0      -5.0      52.0   \n",
       "TiK ToK               120.0    84.0          76.0      -3.0      29.0   \n",
       "Bad Romance           119.0    92.0          70.0      -4.0       8.0   \n",
       "Just the Way You Are  109.0    84.0          64.0      -5.0       9.0   \n",
       "\n",
       "                      valence  duration  acousticness  speechiness  \\\n",
       "title                                                                \n",
       "Hey, Soul Sister         80.0     217.0          19.0          4.0   \n",
       "Love The Way You Lie     64.0     263.0          24.0         23.0   \n",
       "TiK ToK                  71.0     200.0          10.0         14.0   \n",
       "Bad Romance              71.0     295.0           0.0          4.0   \n",
       "Just the Way You Are     43.0     221.0           2.0          4.0   \n",
       "\n",
       "                      track_popularity  \n",
       "title                                   \n",
       "Hey, Soul Sister                    83  \n",
       "Love The Way You Lie                82  \n",
       "TiK ToK                             80  \n",
       "Bad Romance                         79  \n",
       "Just the Way You Are                78  "
      ]
     },
     "execution_count": 5,
     "metadata": {},
     "output_type": "execute_result"
    }
   ],
   "source": [
    "data[['artist']] = data[['artist']].apply(LabelEncoder().fit_transform)\n",
    "data[['top genre']] = data[['top genre']].apply(LabelEncoder().fit_transform)\n",
    "data.head()"
   ]
  },
  {
   "cell_type": "markdown",
   "metadata": {},
   "source": [
    "Овој пат ќе го користам врвниот жанр како повеќекласна целна променлива."
   ]
  },
  {
   "cell_type": "code",
   "execution_count": 6,
   "metadata": {},
   "outputs": [],
   "source": [
    "X, Y = data[data.columns.drop(['top genre'])], data['top genre']"
   ]
  },
  {
   "cell_type": "code",
   "execution_count": 8,
   "metadata": {},
   "outputs": [],
   "source": [
    "scaler = MinMaxScaler()\n",
    "X[X.columns.drop(['artist', 'year'])] = scaler.fit_transform(X[X.columns.drop(['artist', 'year'])])"
   ]
  },
  {
   "cell_type": "code",
   "execution_count": 15,
   "metadata": {},
   "outputs": [],
   "source": [
    "X = X.fillna(X.median())"
   ]
  },
  {
   "cell_type": "markdown",
   "metadata": {},
   "source": [
    "Извршувам пополнување на вредностите што недостасуваат со нивната медијана."
   ]
  },
  {
   "cell_type": "markdown",
   "metadata": {},
   "source": [
    "Бидејќи податоците се од различни типови, имаме:  nominal, ordinal, interval и ration attributes, ќе дефинирам прилагодена метрика. <br>\n",
    "\n",
    "Binary (target): is_dance_pop <br>\n",
    "Nominal attributes: title, artist<br>\n",
    "Ordinal attributes: year (2010 - 2020)<br>\n",
    "Interval: loudness<br>\n",
    "Ratio: other <br>\n",
    "\n",
    "Прилагодената метрика ги проценува номиналните променливи така што проверува дали се исти или не, за редните променливи го користи растојанието помеѓу вредностите поделени со нивниот опсег, потоа квадратот, а за континуираните променливи ја додава квадратната разлика и на крај се враќа квадратен корен од целосната сума."
   ]
  },
  {
   "cell_type": "code",
   "execution_count": 1,
   "metadata": {},
   "outputs": [],
   "source": [
    "def custom_metric(x, y):\n",
    "  score = 0\n",
    "  val = (x[0]!=y[0])**2 #for artist (nominal)\n",
    "  score += val\n",
    "  count = 0\n",
    "\n",
    "  for xi, yi in zip(x[1:], y[1:]):\n",
    "    if count == 3:\n",
    "      score += (abs((xi-yi) / 9))**2 #for year (ordinal)\n",
    "    else:\n",
    "      score += (xi-yi)**2\n",
    "    count += 1\n",
    "\n",
    "  return np.sqrt(score)"
   ]
  },
  {
   "cell_type": "markdown",
   "metadata": {},
   "source": [
    "Дефинирање на функција која врши вкрстени предвидувања за 5-кратна валидација."
   ]
  },
  {
   "cell_type": "code",
   "execution_count": 12,
   "metadata": {},
   "outputs": [],
   "source": [
    "def cross_validation_model(X, Y, model):\n",
    "  predicted = []\n",
    "  actual = []\n",
    "  folds = KFold(n_splits=5, shuffle=True, random_state=0)\n",
    "\n",
    "  for train_ind, test_ind in folds.split(X):\n",
    "    X_train = X.iloc[train_ind]\n",
    "    Y_train = Y.iloc[train_ind]\n",
    "    X_test = X.iloc[test_ind]\n",
    "    Y_test = Y.iloc[test_ind]\n",
    "    model.fit(X_train, Y_train)\n",
    "    predicted_vals = model.predict(X_test)\n",
    "    predicted.extend(predicted_vals)\n",
    "    actual.extend(Y_test.to_list())\n",
    "  \n",
    "  score = cross_val_score(model, X, Y)\n",
    "\n",
    "  return predicted, actual, score"
   ]
  },
  {
   "cell_type": "code",
   "execution_count": 16,
   "metadata": {},
   "outputs": [],
   "source": [
    "X_cont = X.drop(['artist', 'year'], axis=1)"
   ]
  },
  {
   "cell_type": "code",
   "execution_count": 17,
   "metadata": {},
   "outputs": [],
   "source": [
    "errors = []\n",
    "metrics = ['minkowski', 'manhattan', 'euclidean', 'cosine',custom_metric]\n",
    "\n",
    "for metric in metrics:\n",
    "  node = []\n",
    "  for i in range(1, 30):\n",
    "    knn = KNeighborsClassifier(n_neighbors=i, metric=metric, p=3)\n",
    "    if metric != metrics[-1]:\n",
    "        pred_i, act_i, score_i = cross_validation_model(X_cont, Y, knn)\n",
    "    else:\n",
    "        pred_i, act_i, score_i = cross_validation_model(X, Y, knn)\n",
    "    err = np.mean([1 if pred_i[i] != act_i[i] else 0 for i in range(len(pred_i))])\n",
    "    node.append(err)\n",
    "  errors.append(node)   "
   ]
  },
  {
   "cell_type": "code",
   "execution_count": 18,
   "metadata": {},
   "outputs": [
    {
     "data": {
      "image/png": "[encoded data removed]",
      "text/plain": [
       "<Figure size 1080x720 with 1 Axes>"
      ]
     },
     "metadata": {
      "needs_background": "light"
     },
     "output_type": "display_data"
    }
   ],
   "source": [
    "plt.figure(figsize=(15, 10))\n",
    "plt.plot(range(1, 30), errors[0], color='red', linestyle='dashed', marker='o',\n",
    "         markerfacecolor='blue', markersize=10, label='Minkwoski Distance p=3')\n",
    "plt.plot(range(1, 30), errors[1], color='green', linestyle='dashed', marker='o',\n",
    "         markerfacecolor='yellow', markersize=10, label='Manhattan Distance')\n",
    "plt.plot(range(1, 30), errors[2], color='darkgreen', linestyle='dashed', marker='o',\n",
    "         markerfacecolor='red', markersize=10, label='Euclidean Distance')\n",
    "plt.plot(range(1, 30), errors[3], color='blue', linestyle='dashed', marker='o',\n",
    "         markerfacecolor='grey', markersize=10, label='Cosine Distance')\n",
    "plt.plot(range(1, 30), errors[4], color='black', linestyle='dashed', marker='o',\n",
    "         markerfacecolor='white', markersize=10, label='Custom Distance')\n",
    "plt.title('Error Rate K Value - 5 distances')\n",
    "plt.xlabel('K Value')\n",
    "plt.xticks(range(1,30))\n",
    "plt.ylabel('Mean Error')\n",
    "plt.legend()\n",
    "plt.show()"
   ]
  },
  {
   "cell_type": "markdown",
   "metadata": {},
   "source": [
    "Ќе ја користам прилагодената метрика со 1 најблизок сосед бидејќи има најдобри резултати."
   ]
  },
  {
   "cell_type": "code",
   "execution_count": 48,
   "metadata": {},
   "outputs": [],
   "source": [
    "clf = KNeighborsClassifier(n_neighbors=1, metric=custom_metric)\n",
    "cv_predictions, cv_actual, cv_score = cross_validation_model(X, Y, clf)"
   ]
  },
  {
   "cell_type": "code",
   "execution_count": 49,
   "metadata": {},
   "outputs": [
    {
     "name": "stdout",
     "output_type": "stream",
     "text": [
      "              precision    recall  f1-score   support\n",
      "\n",
      "           0       0.58      0.70      0.64        10\n",
      "           1       0.00      0.00      0.00         1\n",
      "           2       0.48      0.52      0.50        29\n",
      "           3       0.55      0.45      0.49        38\n",
      "           4       0.91      0.93      0.92       547\n",
      "           5       0.00      0.00      0.00         6\n",
      "           6       0.42      0.38      0.40        21\n",
      "\n",
      "    accuracy                           0.85       652\n",
      "   macro avg       0.42      0.42      0.42       652\n",
      "weighted avg       0.84      0.85      0.85       652\n",
      "\n"
     ]
    }
   ],
   "source": [
    "print(classification_report(cv_actual, cv_predictions))"
   ]
  },
  {
   "cell_type": "code",
   "execution_count": 50,
   "metadata": {},
   "outputs": [
    {
     "data": {
      "image/png": "[encoded data removed]",
      "text/plain": [
       "<Figure size 720x504 with 2 Axes>"
      ]
     },
     "metadata": {
      "needs_background": "light"
     },
     "output_type": "display_data"
    }
   ],
   "source": [
    "plt.figure(figsize=(10,7))\n",
    "sns.heatmap(confusion_matrix(cv_actual, cv_predictions), annot=True, fmt='.5g')\n",
    "plt.xlabel('Predicted')\n",
    "plt.ylabel('Actual')\n",
    "plt.title('Confusion matrix for holdout method - K=2')\n",
    "plt.show()"
   ]
  },
  {
   "cell_type": "markdown",
   "metadata": {},
   "source": [
    "Имајќи во предвид дека збирот на податоци е многу неурамнотежен, овие резултати всушност и не се толку лоши. <br>\n",
    "KNN го класифицира поголемиот дел од најраспространетите класи како ture, додека другите помалку распространети класи се исто така класифицирани на добар начин. Има само една песна од жанрот country, но не е класифицирана како country што се очекува."
   ]
  },
  {
   "cell_type": "markdown",
   "metadata": {},
   "source": [
    "<h3>Logistic regression</h3>"
   ]
  },
  {
   "cell_type": "markdown",
   "metadata": {},
   "source": [
    "Ги користам овие параметри за да ги пронајдам најдобрите за логистичка регресија, при што користам мрежно пребарување со внатрешна 5-кратна вкрстена валидација што го максимизира f1-score."
   ]
  },
  {
   "cell_type": "code",
   "execution_count": 37,
   "metadata": {},
   "outputs": [],
   "source": [
    "parameters_log_reg = {\n",
    "    'penalty': ['l1', 'l2'],\n",
    "    'solver': ['newton-cg', 'lbfgs', 'liblinear', 'saga']\n",
    "}"
   ]
  },
  {
   "cell_type": "code",
   "execution_count": 42,
   "metadata": {},
   "outputs": [
    {
     "data": {
      "text/plain": [
       "{'penalty': 'l1', 'solver': 'liblinear'}"
      ]
     },
     "execution_count": 42,
     "metadata": {},
     "output_type": "execute_result"
    }
   ],
   "source": [
    "grid = GridSearchCV(LogisticRegression(), param_grid=parameters_log_reg, scoring='f1_weighted', cv=5)\n",
    "grid.fit(X, Y)\n",
    "grid.best_params_"
   ]
  },
  {
   "cell_type": "code",
   "execution_count": 43,
   "metadata": {},
   "outputs": [],
   "source": [
    "logreg = LogisticRegression(penalty=grid.best_params_['penalty'], solver=grid.best_params_['solver'])\n",
    "logistic = OneVsRestClassifier(logreg, n_jobs=-1)"
   ]
  },
  {
   "cell_type": "markdown",
   "metadata": {},
   "source": [
    "-Изработка на 5-кратна вкрстена валидација"
   ]
  },
  {
   "cell_type": "code",
   "execution_count": 44,
   "metadata": {},
   "outputs": [],
   "source": [
    "cv_predictions, cv_actual, cv_score = cross_validation_model(X, Y, logistic)"
   ]
  },
  {
   "cell_type": "code",
   "execution_count": 45,
   "metadata": {},
   "outputs": [
    {
     "name": "stdout",
     "output_type": "stream",
     "text": [
      "              precision    recall  f1-score   support\n",
      "\n",
      "           0       0.00      0.00      0.00        10\n",
      "           1       0.00      0.00      0.00         1\n",
      "           2       0.00      0.00      0.00        29\n",
      "           3       0.00      0.00      0.00        38\n",
      "           4       0.84      1.00      0.91       547\n",
      "           5       0.00      0.00      0.00         6\n",
      "           6       0.00      0.00      0.00        21\n",
      "\n",
      "    accuracy                           0.84       652\n",
      "   macro avg       0.12      0.14      0.13       652\n",
      "weighted avg       0.70      0.84      0.77       652\n",
      "\n"
     ]
    }
   ],
   "source": [
    "print(classification_report(cv_actual, cv_predictions))"
   ]
  },
  {
   "cell_type": "code",
   "execution_count": 47,
   "metadata": {},
   "outputs": [
    {
     "data": {
      "image/png": "[encoded data removed]",
      "text/plain": [
       "<Figure size 720x504 with 2 Axes>"
      ]
     },
     "metadata": {
      "needs_background": "light"
     },
     "output_type": "display_data"
    }
   ],
   "source": [
    "plt.figure(figsize=(10,7))\n",
    "sns.heatmap(confusion_matrix(cv_actual, cv_predictions), annot=True, fmt='.5g')\n",
    "plt.xlabel('Predicted')\n",
    "plt.ylabel('Actual')\n",
    "plt.title('Confusion matrix for holdout method - K=2')\n",
    "plt.show()"
   ]
  },
  {
   "cell_type": "markdown",
   "metadata": {},
   "source": [
    "Моделот на логистичката регресија ја предвидува само класата 4 која всушност е поп."
   ]
  },
  {
   "cell_type": "markdown",
   "metadata": {},
   "source": [
    "КNN имаше многу подобри перформанси во однос на логистичката регресија."
   ]
  }
 ],
 "metadata": {
  "kernelspec": {
   "display_name": "Python 3",
   "language": "python",
   "name": "python3"
  },
  "language_info": {
   "codemirror_mode": {
    "name": "ipython",
    "version": 3
   },
   "file_extension": ".py",
   "mimetype": "text/x-python",
   "name": "python",
   "nbconvert_exporter": "python",
   "pygments_lexer": "ipython3",
   "version": "3.8.8"
  }
 },
 "nbformat": 4,
 "nbformat_minor": 4
}
